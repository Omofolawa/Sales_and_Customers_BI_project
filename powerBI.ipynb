{
 "cells": [
  {
   "cell_type": "code",
   "execution_count": 1,
   "id": "c1a3a1b9-734a-4579-8931-a36dfa7b2653",
   "metadata": {},
   "outputs": [],
   "source": [
    "import pandas as pd\n",
    "from faker import Faker\n",
    "import random"
   ]
  },
  {
   "cell_type": "code",
   "execution_count": 2,
   "id": "8af6bc3d-a038-4de7-86b5-6113bc26ab4e",
   "metadata": {},
   "outputs": [],
   "source": [
    "# Initialize Faker\n",
    "fake = Faker()"
   ]
  },
  {
   "cell_type": "code",
   "execution_count": 3,
   "id": "c66f2f6d-f283-4327-9eae-04798779074c",
   "metadata": {},
   "outputs": [],
   "source": [
    "# Declaring Data Parameters \n",
    "num_customers = 500\n",
    "num_products = 200\n",
    "num_stores = 40\n",
    "num_sales = 10000"
   ]
  },
  {
   "cell_type": "code",
   "execution_count": 4,
   "id": "72e7fffc-7bbd-449d-af49-0b269931e4b3",
   "metadata": {},
   "outputs": [],
   "source": [
    "# Generate Customers\n",
    "customers = []\n",
    "for _ in range(num_customers):\n",
    "    customers.append([fake.unique.uuid4(), fake.name(), fake.email(), fake.address(), fake.phone_number()])\n",
    "\n",
    "customers_df = pd.DataFrame(customers, columns=['CustomerID', 'CustomerName', 'CustomerEmail', 'CustomerAddress', 'CustomerPhone'])"
   ]
  },
  {
   "cell_type": "code",
   "execution_count": 5,
   "id": "4a2d6e5e-b74c-4c3b-a5ad-b5a3a0219b70",
   "metadata": {},
   "outputs": [],
   "source": [
    "# Generate Products\n",
    "products = []\n",
    "categories = ['Electronics', 'Clothing', 'Home & Kitchen', 'Sports & Outdoors', 'Health & Beauty']\n",
    "for _ in range(num_products):\n",
    "    products.append([fake.unique.uuid4(), fake.word(), random.choice(categories), round(random.uniform(5.0, 500.0), 2)])\n",
    "\n",
    "products_df = pd.DataFrame(products, columns=['ProductID', 'ProductName', 'Category', 'Price'])"
   ]
  },
  {
   "cell_type": "code",
   "execution_count": 6,
   "id": "fce7da81-b25c-4971-a30f-d3afcd10b4c7",
   "metadata": {},
   "outputs": [],
   "source": [
    "# Generate Stores\n",
    "stores = []\n",
    "for _ in range(num_stores):\n",
    "    stores.append([fake.unique.uuid4(), fake.company(), fake.city(), fake.state(), fake.zipcode()])\n",
    "\n",
    "stores_df = pd.DataFrame(stores, columns=['StoreID', 'StoreName', 'City', 'State', 'ZipCode'])"
   ]
  },
  {
   "cell_type": "code",
   "execution_count": 7,
   "id": "d02d92b5-d728-4874-8126-d2d242ecd637",
   "metadata": {},
   "outputs": [],
   "source": [
    "# Generate Sales\n",
    "sales = []\n",
    "for _ in range(num_sales):\n",
    "    sales.append([\n",
    "        fake.unique.uuid4(),\n",
    "        random.choice(customers_df['CustomerID']),\n",
    "        random.choice(products_df['ProductID']),\n",
    "        random.choice(stores_df['StoreID']),\n",
    "        fake.date_this_decade(),\n",
    "        random.randint(1, 5)\n",
    "    ])\n",
    "\n",
    "sales_df = pd.DataFrame(sales, columns=['SaleID', 'CustomerID', 'ProductID', 'StoreID', 'SaleDate', 'Quantity'])"
   ]
  },
  {
   "cell_type": "code",
   "execution_count": 8,
   "id": "1017daa5-b53c-4785-95dd-89d1a7480f99",
   "metadata": {},
   "outputs": [
    {
     "name": "stdout",
     "output_type": "stream",
     "text": [
      "Data generated and saved to CSV files.\n"
     ]
    }
   ],
   "source": [
    "# Save to CSV\n",
    "customers_df.to_csv('customers.csv', index=False)\n",
    "products_df.to_csv('products.csv', index=False)\n",
    "stores_df.to_csv('stores.csv', index=False)\n",
    "sales_df.to_csv('sales.csv', index=False)\n",
    "\n",
    "print(\"Data generated and saved to CSV files.\")"
   ]
  },
  {
   "cell_type": "code",
   "execution_count": null,
   "id": "9270105e-e735-44b9-8266-6eaa416a7130",
   "metadata": {},
   "outputs": [],
   "source": []
  }
 ],
 "metadata": {
  "kernelspec": {
   "display_name": "Python 3 (ipykernel)",
   "language": "python",
   "name": "python3"
  },
  "language_info": {
   "codemirror_mode": {
    "name": "ipython",
    "version": 3
   },
   "file_extension": ".py",
   "mimetype": "text/x-python",
   "name": "python",
   "nbconvert_exporter": "python",
   "pygments_lexer": "ipython3",
   "version": "3.11.9"
  }
 },
 "nbformat": 4,
 "nbformat_minor": 5
}
